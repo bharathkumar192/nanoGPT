{
  "nbformat": 4,
  "nbformat_minor": 0,
  "metadata": {
    "colab": {
      "provenance": [],
      "gpuType": "T4"
    },
    "kernelspec": {
      "name": "python3",
      "display_name": "Python 3"
    },
    "language_info": {
      "name": "python"
    },
    "accelerator": "GPU"
  },
  "cells": [
    {
      "cell_type": "code",
      "source": [
        "!rm -rf /content/nanoGPT"
      ],
      "metadata": {
        "id": "d8LYTkVdNIhy"
      },
      "execution_count": 7,
      "outputs": []
    },
    {
      "cell_type": "code",
      "execution_count": 8,
      "metadata": {
        "colab": {
          "base_uri": "https://localhost:8080/"
        },
        "id": "tKaTq3RWMxoU",
        "outputId": "b5f60c44-0696-416d-b56f-74a83cdafe3b"
      },
      "outputs": [
        {
          "output_type": "stream",
          "name": "stdout",
          "text": [
            "Cloning into 'nanoGPT'...\n",
            "remote: Enumerating objects: 739, done.\u001b[K\n",
            "remote: Counting objects: 100% (53/53), done.\u001b[K\n",
            "remote: Compressing objects: 100% (42/42), done.\u001b[K\n",
            "remote: Total 739 (delta 23), reused 41 (delta 11), pack-reused 686 (from 1)\u001b[K\n",
            "Receiving objects: 100% (739/739), 2.62 MiB | 19.74 MiB/s, done.\n",
            "Resolving deltas: 100% (410/410), done.\n"
          ]
        }
      ],
      "source": [
        "!git clone -b 6 https://github.com/bharathkumar192/nanoGPT.git"
      ]
    },
    {
      "cell_type": "code",
      "source": [
        "!mkdir /content/nanoGPT/model_checkpoints"
      ],
      "metadata": {
        "id": "wxs7ALi6M5bO"
      },
      "execution_count": 9,
      "outputs": []
    },
    {
      "cell_type": "code",
      "source": [
        "!python /content/nanoGPT/main.py"
      ],
      "metadata": {
        "colab": {
          "base_uri": "https://localhost:8080/"
        },
        "id": "HSkyBMpjM8A3",
        "outputId": "1042de11-f75c-4954-b99e-1779dade6456"
      },
      "execution_count": 10,
      "outputs": [
        {
          "output_type": "stream",
          "name": "stdout",
          "text": [
            "Using device: cuda\n",
            "100% 9.91M/9.91M [00:00<00:00, 54.6MB/s]\n",
            "100% 28.9k/28.9k [00:00<00:00, 1.58MB/s]\n",
            "100% 1.65M/1.65M [00:00<00:00, 15.1MB/s]\n",
            "100% 4.54k/4.54k [00:00<00:00, 14.4MB/s]\n",
            "100% 26.4M/26.4M [00:01<00:00, 18.6MB/s]\n",
            "100% 29.5k/29.5k [00:00<00:00, 298kB/s]\n",
            "100% 4.42M/4.42M [00:00<00:00, 5.56MB/s]\n",
            "100% 5.15k/5.15k [00:00<00:00, 30.6MB/s]\n",
            "Training samples: 120000\n",
            "Test samples: 20000\n",
            "Number of classes: 20\n",
            "Created Vision Transformer with 1,870,100 parameters\n",
            "\n",
            "Starting training...\n",
            "\n",
            "Epoch 1/5\n",
            "Training: 100% 938/938 [00:42<00:00, 22.26it/s, loss=0.493, acc=61.48%]\n",
            "Evaluating: 100% 157/157 [00:02<00:00, 60.57it/s]\n",
            "  Train loss: 1.0850, Train accuracy: 61.48%\n",
            "  Test loss: 0.4843, Test accuracy: 83.83%\n",
            "  Learning rate: 0.000905\n",
            "  Saved new best model with accuracy: 83.83%\n",
            "\n",
            "Epoch 2/5\n",
            "Training: 100% 938/938 [00:42<00:00, 21.91it/s, loss=0.211, acc=85.96%]\n",
            "Evaluating: 100% 157/157 [00:02<00:00, 60.92it/s]\n",
            "  Train loss: 0.4108, Train accuracy: 85.96%\n",
            "  Test loss: 0.3450, Test accuracy: 88.03%\n",
            "  Learning rate: 0.000655\n",
            "  Saved new best model with accuracy: 88.03%\n",
            "\n",
            "Epoch 3/5\n",
            "Training: 100% 938/938 [00:42<00:00, 22.08it/s, loss=0.358, acc=89.25%]\n",
            "Evaluating: 100% 157/157 [00:03<00:00, 46.58it/s]\n",
            "  Train loss: 0.3051, Train accuracy: 89.25%\n",
            "  Test loss: 0.2818, Test accuracy: 89.99%\n",
            "  Learning rate: 0.000345\n",
            "  Saved new best model with accuracy: 89.99%\n",
            "\n",
            "Epoch 4/5\n",
            "Training: 100% 938/938 [00:42<00:00, 22.05it/s, loss=0.212, acc=91.32%]\n",
            "Evaluating: 100% 157/157 [00:02<00:00, 60.87it/s]\n",
            "  Train loss: 0.2443, Train accuracy: 91.32%\n",
            "  Test loss: 0.2299, Test accuracy: 91.78%\n",
            "  Learning rate: 0.000095\n",
            "  Saved new best model with accuracy: 91.78%\n",
            "\n",
            "Epoch 5/5\n",
            "Training: 100% 938/938 [00:42<00:00, 21.86it/s, loss=0.134, acc=92.72%]\n",
            "Evaluating: 100% 157/157 [00:02<00:00, 60.31it/s]\n",
            "  Train loss: 0.2022, Train accuracy: 92.72%\n",
            "  Test loss: 0.2024, Test accuracy: 92.64%\n",
            "  Learning rate: 0.000000\n",
            "  Saved new best model with accuracy: 92.64%\n",
            "\n",
            "Training completed! Best test accuracy: 92.64%\n",
            "Figure(1200x800)\n",
            "\n",
            "Loaded best model from epoch 5 with accuracy 92.64%\n",
            "Computing predictions: 100% 157/157 [00:02<00:00, 61.20it/s]\n",
            "Figure(1400x1200)\n",
            "Figure(1000x600)\n",
            "Figure(1200x600)\n",
            "\n",
            "Analysis completed!\n",
            "MNIST accuracy: 98.06%\n",
            "FashionMNIST accuracy: 87.23%\n",
            "Overall accuracy: 92.64%\n"
          ]
        }
      ]
    }
  ]
}